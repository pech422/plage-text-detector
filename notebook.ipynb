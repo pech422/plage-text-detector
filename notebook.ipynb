{
 "cells": [
  {
   "cell_type": "code",
   "execution_count": 17,
   "metadata": {},
   "outputs": [],
   "source": [
    "import pandas as pd\n",
    "import pandasql as ps"
   ]
  },
  {
   "cell_type": "code",
   "execution_count": 18,
   "metadata": {},
   "outputs": [
    {
     "data": {
      "text/html": [
       "<div>\n",
       "<style scoped>\n",
       "    .dataframe tbody tr th:only-of-type {\n",
       "        vertical-align: middle;\n",
       "    }\n",
       "\n",
       "    .dataframe tbody tr th {\n",
       "        vertical-align: top;\n",
       "    }\n",
       "\n",
       "    .dataframe thead th {\n",
       "        text-align: right;\n",
       "    }\n",
       "</style>\n",
       "<table border=\"1\" class=\"dataframe\">\n",
       "  <thead>\n",
       "    <tr style=\"text-align: right;\">\n",
       "      <th></th>\n",
       "      <th>Name</th>\n",
       "      <th>Phone Number</th>\n",
       "      <th>date</th>\n",
       "      <th>genre</th>\n",
       "    </tr>\n",
       "  </thead>\n",
       "  <tbody>\n",
       "    <tr>\n",
       "      <th>0</th>\n",
       "      <td>Kimberlee Turlington</td>\n",
       "      <td>039 298-72-30</td>\n",
       "      <td>2006-3-30</td>\n",
       "      <td>1</td>\n",
       "    </tr>\n",
       "    <tr>\n",
       "      <th>1</th>\n",
       "      <td>Miguel Eveland</td>\n",
       "      <td>032-2659094</td>\n",
       "      <td>1971-9-22</td>\n",
       "      <td>1</td>\n",
       "    </tr>\n",
       "    <tr>\n",
       "      <th>2</th>\n",
       "      <td>Audrie Smid</td>\n",
       "      <td>03758295-10 32</td>\n",
       "      <td>2009-1-16</td>\n",
       "      <td>3</td>\n",
       "    </tr>\n",
       "    <tr>\n",
       "      <th>3</th>\n",
       "      <td>Antonia Maslanka</td>\n",
       "      <td>00594-83-34 93</td>\n",
       "      <td>1999-7-25</td>\n",
       "      <td>1</td>\n",
       "    </tr>\n",
       "    <tr>\n",
       "      <th>4</th>\n",
       "      <td>Val Hoffmeyer</td>\n",
       "      <td>001-859-07-84</td>\n",
       "      <td>2008-7-21</td>\n",
       "      <td>2</td>\n",
       "    </tr>\n",
       "    <tr>\n",
       "      <th>...</th>\n",
       "      <td>...</td>\n",
       "      <td>...</td>\n",
       "      <td>...</td>\n",
       "      <td>...</td>\n",
       "    </tr>\n",
       "    <tr>\n",
       "      <th>995</th>\n",
       "      <td>Rene Rubner</td>\n",
       "      <td>006-42958-57</td>\n",
       "      <td>1988-4-31</td>\n",
       "      <td>2</td>\n",
       "    </tr>\n",
       "    <tr>\n",
       "      <th>996</th>\n",
       "      <td>Robin Repke</td>\n",
       "      <td>0704708286</td>\n",
       "      <td>1999-2-31</td>\n",
       "      <td>1</td>\n",
       "    </tr>\n",
       "    <tr>\n",
       "      <th>997</th>\n",
       "      <td>Nilda Mees</td>\n",
       "      <td>019 4826 02</td>\n",
       "      <td>1988-12-15</td>\n",
       "      <td>2</td>\n",
       "    </tr>\n",
       "    <tr>\n",
       "      <th>998</th>\n",
       "      <td>Shasta Bou</td>\n",
       "      <td>06701-087 2 28</td>\n",
       "      <td>1980-9-8</td>\n",
       "      <td>3</td>\n",
       "    </tr>\n",
       "    <tr>\n",
       "      <th>999</th>\n",
       "      <td>Kasey Pocock</td>\n",
       "      <td>0926-37674 0</td>\n",
       "      <td>1994-2-20</td>\n",
       "      <td>1</td>\n",
       "    </tr>\n",
       "  </tbody>\n",
       "</table>\n",
       "<p>1000 rows × 4 columns</p>\n",
       "</div>"
      ],
      "text/plain": [
       "                     Name    Phone Number        date  genre\n",
       "0    Kimberlee Turlington   039 298-72-30   2006-3-30      1\n",
       "1          Miguel Eveland     032-2659094   1971-9-22      1\n",
       "2             Audrie Smid  03758295-10 32   2009-1-16      3\n",
       "3        Antonia Maslanka  00594-83-34 93   1999-7-25      1\n",
       "4           Val Hoffmeyer   001-859-07-84   2008-7-21      2\n",
       "..                    ...             ...         ...    ...\n",
       "995           Rene Rubner    006-42958-57   1988-4-31      2\n",
       "996           Robin Repke      0704708286   1999-2-31      1\n",
       "997            Nilda Mees     019 4826 02  1988-12-15      2\n",
       "998            Shasta Bou  06701-087 2 28    1980-9-8      3\n",
       "999          Kasey Pocock    0926-37674 0   1994-2-20      1\n",
       "\n",
       "[1000 rows x 4 columns]"
      ]
     },
     "execution_count": 18,
     "metadata": {},
     "output_type": "execute_result"
    }
   ],
   "source": [
    "agenda = pd.read_csv('data/agenda.csv')\n",
    "\n",
    "agenda\n",
    "\n",
    "# https://stackoverflow.com/questions/45865608/executing-an-sql-query-over-a-pandas-dataset"
   ]
  },
  {
   "cell_type": "code",
   "execution_count": 22,
   "metadata": {},
   "outputs": [
    {
     "name": "stdout",
     "output_type": "stream",
     "text": [
      "                     Name\n",
      "0    Kimberlee Turlington\n",
      "1          Miguel Eveland\n",
      "2        Antonia Maslanka\n",
      "3             Reva Larger\n",
      "4            Cheri Batson\n",
      "..                    ...\n",
      "378             Jen Behan\n",
      "379      Ricky Engelhaupt\n",
      "380              Del Vela\n",
      "381           Robin Repke\n",
      "382          Kasey Pocock\n",
      "\n",
      "[383 rows x 1 columns]\n"
     ]
    }
   ],
   "source": [
    "\n",
    "q1 = \"\"\"SELECT Name FROM agenda WHERE genre=1\"\"\"\n",
    "\n",
    "print(ps.sqldf(q1, locals()))"
   ]
  },
  {
   "cell_type": "code",
   "execution_count": 28,
   "metadata": {},
   "outputs": [
    {
     "name": "stdout",
     "output_type": "stream",
     "text": [
      "                 Name\n",
      "0      Miguel Eveland\n",
      "1    Antonia Maslanka\n",
      "2       Fleta Mckiney\n",
      "3         Reva Larger\n",
      "4       Shelby Prator\n",
      "..                ...\n",
      "713       Rene Rubner\n",
      "714       Robin Repke\n",
      "715        Nilda Mees\n",
      "716        Shasta Bou\n",
      "717      Kasey Pocock\n",
      "\n",
      "[718 rows x 1 columns]\n"
     ]
    }
   ],
   "source": [
    "q2 = \"\"\"SELECT Name FROM agenda WHERE date LIKE '19%'\"\"\"\n",
    "\n",
    "print(ps.sqldf(q2, locals()))"
   ]
  }
 ],
 "metadata": {
  "interpreter": {
   "hash": "8cc1a8b20fb2d03699825250a1d5ac00326c43e470168b628980085bd0612c8b"
  },
  "kernelspec": {
   "display_name": "Python 3.9.0 64-bit",
   "language": "python",
   "name": "python3"
  },
  "language_info": {
   "codemirror_mode": {
    "name": "ipython",
    "version": 3
   },
   "file_extension": ".py",
   "mimetype": "text/x-python",
   "name": "python",
   "nbconvert_exporter": "python",
   "pygments_lexer": "ipython3",
   "version": "3.9.0"
  },
  "orig_nbformat": 4
 },
 "nbformat": 4,
 "nbformat_minor": 2
}
